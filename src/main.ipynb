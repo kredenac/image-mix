{
 "cells": [
  {
   "cell_type": "code",
   "execution_count": 112,
   "metadata": {},
   "outputs": [],
   "source": [
    "import numpy as np\n",
    "from numpy.fft import fft2, fft, ifft, ifft2\n",
    "\n",
    "# mistakes: \n",
    "# giving fft input 2d array\n",
    "# arrange instead of arange\n",
    "# shapes"
   ]
  },
  {
   "cell_type": "code",
   "execution_count": 4,
   "metadata": {},
   "outputs": [
    {
     "data": {
      "text/plain": [
       "array([[0.93251127, 0.32513812],\n",
       "       [0.48460909, 0.15467844],\n",
       "       [0.81599527, 0.82355466],\n",
       "       [0.87607245, 0.12978211],\n",
       "       [0.9508346 , 0.44766614]])"
      ]
     },
     "execution_count": 4,
     "metadata": {},
     "output_type": "execute_result"
    }
   ],
   "source": [
    "N = 10\n",
    "x = np.random.random(N).reshape((N//2, 2))\n",
    "x"
   ]
  },
  {
   "cell_type": "markdown",
   "metadata": {},
   "source": [
    "### axis enumeration:\n",
    "axis=0   is up/down, ei. change of rows\n",
    "\n",
    "axis=1   is left/right, ei. change of cols"
   ]
  },
  {
   "cell_type": "code",
   "execution_count": 5,
   "metadata": {},
   "outputs": [
    {
     "name": "stdout",
     "output_type": "stream",
     "text": [
      "[[ 5.94084215+0.j          2.17920322+0.j        ]\n",
      " [-0.2528166 +0.34957788j  0.26716904+0.60786069j]\n",
      " [ 0.426519  +1.04893442j  0.16166223-0.61512707j]\n",
      " [ 0.426519  -1.04893442j  0.16166223+0.61512707j]\n",
      " [-0.2528166 -0.34957788j  0.26716904-0.60786069j]]\n"
     ]
    }
   ],
   "source": [
    "res2 = fft2(x)\n",
    "print(res2)\n"
   ]
  },
  {
   "cell_type": "code",
   "execution_count": 6,
   "metadata": {},
   "outputs": [],
   "source": [
    "def myfunc(x):\n",
    "    return fft(x)"
   ]
  },
  {
   "cell_type": "markdown",
   "metadata": {},
   "source": [
    "fft2 can be calculated by\n",
    "first applying fft on each matrix row\n",
    "then applying fft on that"
   ]
  },
  {
   "cell_type": "code",
   "execution_count": 7,
   "metadata": {},
   "outputs": [
    {
     "name": "stdout",
     "output_type": "stream",
     "text": [
      "[[ 5.94084215+0.j          2.17920322+0.j        ]\n",
      " [-0.2528166 +0.34957788j  0.26716904+0.60786069j]\n",
      " [ 0.426519  +1.04893442j  0.16166223-0.61512707j]\n",
      " [ 0.426519  -1.04893442j  0.16166223+0.61512707j]\n",
      " [-0.2528166 -0.34957788j  0.26716904-0.60786069j]]\n",
      "good results?  True\n"
     ]
    }
   ],
   "source": [
    "# slower onEachRow = np.apply_along_axis(func1d=myfunc, axis=1, arr=x)\n",
    "onEachRow = fft(x, axis=1)\n",
    "#print(onEachRow)\n",
    "\n",
    "# slower onEachCol = np.apply_along_axis(func1d=myfunc, axis=0, arr=onEachRow)\n",
    "# np.apply_along_axis is slower because it uses python loops under the hood\n",
    "onEachCol = fft(onEachRow, axis=0)\n",
    "print(onEachCol)\n",
    "print(\"good results? \", np.allclose(onEachCol, res2))"
   ]
  },
  {
   "cell_type": "code",
   "execution_count": 8,
   "metadata": {},
   "outputs": [],
   "source": [
    "def myfft2(x):\n",
    "    ''' Computes 2d fft using numpys fft '''\n",
    "    onEachRow = fft(x, axis=1)\n",
    "    return fft(onEachRow, axis=0)\n"
   ]
  },
  {
   "cell_type": "code",
   "execution_count": 97,
   "metadata": {},
   "outputs": [
    {
     "name": "stdout",
     "output_type": "stream",
     "text": [
      "54.6 µs ± 3.99 µs per loop (mean ± std. dev. of 7 runs, 10000 loops each)\n",
      "myfft2 is faster than fft2, but only at sub 10k lens\n",
      "38.7 µs ± 486 ns per loop (mean ± std. dev. of 7 runs, 10000 loops each)\n",
      "True\n"
     ]
    }
   ],
   "source": [
    "t = np.arange(1000).reshape(10,100)\n",
    "%timeit f2 = fft2(t)\n",
    "print('myfft2 is faster than fft2, but only at sub 10k lens')\n",
    "%timeit f1 = myfft2(t)\n",
    "print(np.allclose(myfft2(t), fft2(t)))"
   ]
  },
  {
   "cell_type": "code",
   "execution_count": 54,
   "metadata": {},
   "outputs": [],
   "source": [
    "def myfft_bad(x):\n",
    "    #x = x.astype(float)\n",
    "    N = x.shape[0]\n",
    "    n = np.arange(N).reshape((N,1))\n",
    "    k = n.reshape((1,N))\n",
    "    # k and n make an N x N matrix of \n",
    "    # complex coefficients that get multiplied with x\n",
    "    Mat = np.exp(np.pi * k * n/ N * -2j)\n",
    "    return np.dot(Mat, x)"
   ]
  },
  {
   "cell_type": "code",
   "execution_count": 11,
   "metadata": {},
   "outputs": [
    {
     "data": {
      "text/plain": [
       "True"
      ]
     },
     "execution_count": 11,
     "metadata": {},
     "output_type": "execute_result"
    }
   ],
   "source": [
    "t=np.arange(4000)\n",
    "\n",
    "v1 = myfft_bad(t)\n",
    "v2 = fft(t)\n",
    "#print(\"they're insignificantly differenc\",v1-v2)\n",
    "np.allclose(v1,v2)"
   ]
  },
  {
   "cell_type": "code",
   "execution_count": 122,
   "metadata": {},
   "outputs": [
    {
     "name": "stdout",
     "output_type": "stream",
     "text": [
      "1.09 s ± 4.12 ms per loop (mean ± std. dev. of 7 runs, 1 loop each)\n",
      "62.8 µs ± 222 ns per loop (mean ± std. dev. of 7 runs, 10000 loops each)\n",
      "myfft_bad is a lot slower than npfft\n",
      "myfft_bad has O(N^2) numerical operations while np.fft has O(NlogN)\n"
     ]
    }
   ],
   "source": [
    "# at len(t)=3000 myff_bad takes 614ms, and at 4k it takes 1.1s\n",
    "# while np.fft only takes 63µs \n",
    "%timeit myfft_bad(t)\n",
    "%timeit fft(t)\n",
    "print('myfft_bad is a lot slower than npfft')\n",
    "print('myfft_bad has O(N^2) numerical operations while np.fft has O(NlogN)')"
   ]
  },
  {
   "cell_type": "code",
   "execution_count": 123,
   "metadata": {},
   "outputs": [
    {
     "name": "stdout",
     "output_type": "stream",
     "text": [
      "int32\n",
      "float64\n",
      "(3, 1)\n",
      "(3, 1)\n",
      "(10,)\n",
      "(10, 1)\n"
     ]
    }
   ],
   "source": [
    "#testing types\n",
    "test = np.array([1,2,3])\n",
    "test2 = test.astype(float)\n",
    "print(test.dtype)\n",
    "print(test2.dtype)\n",
    "\n",
    "a = test.reshape(3,1)\n",
    "print(a.shape)\n",
    "a = test.reshape((3,1))\n",
    "print(a.shape)\n",
    "\n",
    "arr = np.arange(10)\n",
    "print(arr.shape)\n",
    "arr = np.arange(10).reshape(10,1)\n",
    "print(arr.shape)\n",
    "\n",
    "n = np.arange(10)\n",
    "k = n.reshape((10, 1))\n",
    "#print(n*k)\n",
    "n = np.arange(10).reshape((10,1))\n",
    "k = n.T\n",
    "#print(n*k)\n",
    "#print(n*n.T)"
   ]
  },
  {
   "cell_type": "code",
   "execution_count": 55,
   "metadata": {},
   "outputs": [],
   "source": [
    "def myfft_better(x):\n",
    "    ''' Cooley Turkey FFT, only works for lenghts that are power of 2 '''\n",
    "    #x = x.astype(float)\n",
    "    N = x.shape[0]\n",
    "    \n",
    "    if N % 2 != 0:\n",
    "        raise Exception(\"Error, len(x) has to be power of 2\")\n",
    "    if N <= 8: # at some point it's better to fall back to the basic algorithm\n",
    "        return myfft_bad(x)\n",
    "    even = myfft_better(x[::2])\n",
    "    odd = myfft_better(x[1::2])\n",
    "    multiplier = np.exp( np.pi * np.arange(N) / N * -2j)\n",
    "    return np.concatenate([even + multiplier[:N//2] * odd, \n",
    "        even + multiplier[N//2:] * odd])\n"
   ]
  },
  {
   "cell_type": "code",
   "execution_count": 56,
   "metadata": {},
   "outputs": [
    {
     "data": {
      "text/plain": [
       "True"
      ]
     },
     "execution_count": 56,
     "metadata": {},
     "output_type": "execute_result"
    }
   ],
   "source": [
    "t=np.arange(4096)\n",
    "\n",
    "v1 = myfft_better(t)\n",
    "v2 = fft(t)\n",
    "#print(\"they're insignificantly differenc\",v1-v2)\n",
    "np.allclose(v1,v2)"
   ]
  },
  {
   "cell_type": "code",
   "execution_count": 43,
   "metadata": {},
   "outputs": [
    {
     "name": "stdout",
     "output_type": "stream",
     "text": [
      "1.13 s ± 7.97 ms per loop (mean ± std. dev. of 7 runs, 1 loop each)\n",
      "12.5 ms ± 104 µs per loop (mean ± std. dev. of 7 runs, 100 loops each)\n",
      "59 µs ± 298 ns per loop (mean ± std. dev. of 7 runs, 10000 loops each)\n",
      "myfft is still slower, but orders of magnitute faster than the other implementation\n",
      "N=64 -> 17ms, N=32 -> 10ms, N=16 -> 9.5ms, N=8 -> 12.2ms\n"
     ]
    }
   ],
   "source": [
    "%timeit myfft_bad(t)\n",
    "%timeit myfft_better(t)\n",
    "%timeit fft(t)\n",
    "print(\"myfft is still slower, but orders of magnitute faster than the other implementation\")\n",
    "print(\"len(t)=4096\")\n",
    "print(\"N=64 -> 17ms, N=32 -> 10ms, N=16 -> 9.5ms, N=8 -> 12.2ms\")"
   ]
  },
  {
   "cell_type": "code",
   "execution_count": 57,
   "metadata": {},
   "outputs": [],
   "source": [
    "def my2dfft(x):\n",
    "    onEachRow = np.apply_along_axis(myfft_better, 1, x)\n",
    "    return np.apply_along_axis(myfft_better, 0, onEachRow)"
   ]
  },
  {
   "cell_type": "code",
   "execution_count": 60,
   "metadata": {},
   "outputs": [
    {
     "data": {
      "text/plain": [
       "True"
      ]
     },
     "execution_count": 60,
     "metadata": {},
     "output_type": "execute_result"
    }
   ],
   "source": [
    "t=np.arange(4096).reshape(512,8)\n",
    "\n",
    "v1 = fft2(t)\n",
    "v2 = my2dfft(t)\n",
    "#print(\"they're insignificantly differenc\",v1-v2)\n",
    "np.allclose(v1,v2)"
   ]
  },
  {
   "cell_type": "code",
   "execution_count": 63,
   "metadata": {},
   "outputs": [
    {
     "name": "stdout",
     "output_type": "stream",
     "text": [
      "2.4 ms ± 72.5 µs per loop (mean ± std. dev. of 7 runs, 100 loops each)\n",
      "328 ms ± 8.28 ms per loop (mean ± std. dev. of 7 runs, 1 loop each)\n",
      "2.33 ms ± 40 µs per loop (mean ± std. dev. of 7 runs, 100 loops each)\n",
      "a lot slower than the fortrans fft2 implementation, but useable\n"
     ]
    }
   ],
   "source": [
    "s = 256\n",
    "t=np.arange(s*s).reshape(s,s)\n",
    "%timeit myfft2(t)\n",
    "%timeit my2dfft(t)\n",
    "%timeit fft2(t)\n",
    "\n",
    "print('a lot slower than the fortrans fft2 implementation, but useable')\n",
    "print('N=512x512 -> my2dfft 1s')"
   ]
  },
  {
   "cell_type": "code",
   "execution_count": 71,
   "metadata": {},
   "outputs": [
    {
     "data": {
      "text/plain": [
       "array([[1],\n",
       "       [2],\n",
       "       [3],\n",
       "       [4],\n",
       "       [5]])"
      ]
     },
     "execution_count": 71,
     "metadata": {},
     "output_type": "execute_result"
    }
   ],
   "source": []
  },
  {
   "cell_type": "code",
   "execution_count": 94,
   "metadata": {},
   "outputs": [
    {
     "name": "stdout",
     "output_type": "stream",
     "text": [
      "Problem with the last implementation of 2dfft is that on each node in the\n",
      "recursive tree the same vector is constructed and multiplied with given input,\n",
      "it would be a lot faster if it could be vectorized. And it can be!\n"
     ]
    }
   ],
   "source": [
    "print('''Problem with the last implementation of 2dfft is that on each node in the\n",
    "recursive tree the same vector is constructed and multiplied with given input,\n",
    "it would be a lot faster if it could be vectorized. And it can be!''')\n",
    "def my2dfft_better(x):\n",
    "    ''' vectorized Cooley Turkey, not recursive'''\n",
    "    N = x.shape[0]\n",
    "    \n",
    "    # hacky way of checking if a number is power of two\n",
    "    # faster than log checking and not error prone\n",
    "    if not ( ((N & (N - 1)) == 0) and N > 0 ):\n",
    "        raise Exception(\"Error, len(x) has to be power of 2\")\n",
    "    \n",
    "    # chungs of input onto which to apply the same multiplication\n",
    "    sliceSize = min(N, 32)\n",
    "    \n",
    "    #One shape dimension can be -1. In this case, \n",
    "    #the value is inferred from the length of the array and remaining dimensions.\n",
    "    xslices = x.reshape(sliceSize, -1)\n",
    "    \n",
    "    # applying calculation of myfft_bad on all slices\n",
    "    n = np.arange(sliceSize)\n",
    "    # in numpy None at index creates an axis with length 1.\n",
    "    k = n[:, np.newaxis]\n",
    "    factors = np.exp(np.pi * k * n/N * -2j)\n",
    "    X = np.dot(factors, xslices)\n",
    "    \n",
    "    while N > x.shape[0]:\n",
    "        #analogous to even/odd in myfft_better\n",
    "        firstHalf = X[:, :x.shape[1]//2]\n",
    "        secondHalf = X[:,  x.shape[1]//2:]\n",
    "        N = np.arange(X.shape[0])\n",
    "        factor = np.exp(np.pi * N / X.shape[0] * -1j)[:, np.newaxis]\n",
    "        X = np.vstack([\n",
    "            firstHalf + factor * secondHalf,\n",
    "            firstHalf - factor * secondHalf\n",
    "        ])\n",
    "    \n",
    "    # like flatten but it only makes a copy if it's needed\n",
    "    return X.ravel()"
   ]
  },
  {
   "cell_type": "code",
   "execution_count": 93,
   "metadata": {},
   "outputs": [
    {
     "name": "stdout",
     "output_type": "stream",
     "text": [
      "1.18 ms ± 115 µs per loop (mean ± std. dev. of 7 runs, 1000 loops each)\n",
      "316 ms ± 1.62 ms per loop (mean ± std. dev. of 7 runs, 1 loop each)\n",
      "2.22 ms ± 14.2 µs per loop (mean ± std. dev. of 7 runs, 100 loops each)\n"
     ]
    }
   ],
   "source": [
    "s = 256\n",
    "t=np.arange(s*s).reshape(s,s)\n",
    "%timeit my2dfft_better(t)\n",
    "%timeit my2dfft(t)\n",
    "%timeit fft2(t)\n"
   ]
  },
  {
   "cell_type": "code",
   "execution_count": 147,
   "metadata": {},
   "outputs": [],
   "source": [
    "# https://www.dsprelated.com/showarticle/800.php\n",
    "def myifft(x):\n",
    "    #method#3, for some reason it doesn't work\n",
    "#     real = x.real\n",
    "#     x.real = x.imag\n",
    "#     x.imag = real\n",
    "#     y = myfft_better(x)\n",
    "#     real = y.real\n",
    "#     y.real = y.imag\n",
    "#     y.imag = real\n",
    "#     return y / y.shape[0]\n",
    "    # method#4, works well\n",
    "    x.imag *= -1\n",
    "    y = myfft_better(x)\n",
    "    y.imag *= -1\n",
    "    return y / y.shape[0]"
   ]
  },
  {
   "cell_type": "code",
   "execution_count": 145,
   "metadata": {},
   "outputs": [
    {
     "name": "stdout",
     "output_type": "stream",
     "text": [
      "True\n",
      "[ 0.+0.00000000e+00j 15.+1.13242749e-14j 14.+9.42545333e-15j\n",
      " 13.+1.03250741e-14j 12.+2.22044605e-16j 11.+3.33066907e-15j\n",
      " 10.+3.00904454e-15j  9.+3.88578059e-15j  8.+0.00000000e+00j\n",
      "  7.-4.66293670e-15j  6.-3.00904454e-15j  5.-4.32986980e-15j\n",
      "  4.-2.22044605e-16j  3.-9.99200722e-15j  2.-9.42545333e-15j\n",
      "  1.-9.88098492e-15j]\n",
      "[ 0.+6.66133815e-16j 15.+7.94738930e-15j 14.+3.43999064e-15j\n",
      " 13.+4.36876431e-15j 12.-2.26621556e-15j 11.-1.02576502e-16j\n",
      " 10.+1.86519211e-15j  9.-1.44558843e-15j  8.-7.11903325e-16j\n",
      "  7.-3.37688556e-15j  6.-1.00090146e-15j  5.+8.16050634e-16j\n",
      "  4.+1.82212635e-15j  3.-6.09778084e-15j  2.-7.01659209e-15j\n",
      "  1.+1.09889094e-14j]\n"
     ]
    }
   ],
   "source": [
    "x = np.arange(16)\n",
    "f = fft(x)\n",
    "print(np.allclose(ifft(f), myifft(f)))\n",
    "print(ifft(f))\n",
    "print(myifft(f))"
   ]
  },
  {
   "cell_type": "code",
   "execution_count": 150,
   "metadata": {},
   "outputs": [],
   "source": [
    "def myifft2(x):\n",
    "    onEachRow = np.apply_along_axis(myifft, 1, x)\n",
    "    onEachCol =  np.apply_along_axis(myifft, 0, onEachRow)\n",
    "    return onEachCol #.real"
   ]
  },
  {
   "cell_type": "code",
   "execution_count": 151,
   "metadata": {},
   "outputs": [
    {
     "name": "stdout",
     "output_type": "stream",
     "text": [
      "True\n",
      "[[ 0.+0.j  3.+0.j  2.+0.j  1.+0.j]\n",
      " [12.+0.j 15.+0.j 14.+0.j 13.+0.j]\n",
      " [ 8.+0.j 11.+0.j 10.+0.j  9.+0.j]\n",
      " [ 4.+0.j  7.+0.j  6.+0.j  5.+0.j]]\n",
      "[[ 0.-0.00000000e+00j  3.-1.83697020e-16j  2.-1.22464680e-16j\n",
      "   1.+1.83697020e-16j]\n",
      " [12.-7.34788079e-16j 15.-9.18485099e-16j 14.-8.57252759e-16j\n",
      "  13.-5.51091060e-16j]\n",
      " [ 8.-4.89858720e-16j 11.-6.73555740e-16j 10.-6.12323400e-16j\n",
      "   9.-3.06161700e-16j]\n",
      " [ 4.+7.34788079e-16j  7.+5.51091060e-16j  6.+6.12323400e-16j\n",
      "   5.+9.18485099e-16j]]\n"
     ]
    }
   ],
   "source": [
    "x = np.arange(16).reshape(4,4)\n",
    "f = fft2(x)\n",
    "print(np.allclose(ifft2(f), myifft2(f)))\n",
    "print(ifft2(f))\n",
    "print(myifft2(f))"
   ]
  },
  {
   "cell_type": "code",
   "execution_count": 100,
   "metadata": {},
   "outputs": [],
   "source": [
    "# program implementation\n",
    "import numpy\n",
    "from numpy.fft import fft2, ifft2, fftshift, ifftshift\n",
    "from scipy import misc\n",
    "from scipy import ndimage\n",
    "import math\n",
    "import matplotlib.pyplot as plt\n",
    "\n",
    "def makeGaussianFilter(numRows, numCols, sigma, highPass=True):\n",
    "    centerI = int(numRows/2) + 1 if numRows % 2 == 1 else int(numRows/2)\n",
    "    centerJ = int(numCols/2) + 1 if numCols % 2 == 1 else int(numCols/2)\n",
    "\n",
    "    def gaussian(i,j):\n",
    "        coefficient = math.exp(-1.0 * ((i - centerI)**2 + (j - centerJ)**2) / (2 * sigma**2))\n",
    "        return 1 - coefficient if highPass else coefficient\n",
    "    \n",
    "    return numpy.array([[gaussian(i,j) for j in range(numCols)] for i in range(numRows)])\n",
    " \n",
    "def filterDFT(imageMatrix, filterMatrix):\n",
    "    shiftedDFT = fftshift(fft2(imageMatrix))\n",
    "\n",
    "    filteredDFT = shiftedDFT * filterMatrix\n",
    "\n",
    "    #plt.imshow(filteredDFT.real, cmap='gray')\n",
    "    #plt.show()\n",
    "\n",
    "    res = ifft2(ifftshift(filteredDFT))\n",
    "\n",
    "    return res\n",
    " \n",
    "def lowPass(imageMatrix, sigma):\n",
    "    n,m = imageMatrix.shape\n",
    "    return filterDFT(imageMatrix, makeGaussianFilter(n, m, sigma, highPass=False))\n",
    " \n",
    "def highPass(imageMatrix, sigma):\n",
    "    n,m = imageMatrix.shape\n",
    "    return filterDFT(imageMatrix, makeGaussianFilter(n, m, sigma, highPass=True))\n",
    "\n",
    "def hybridImage(highFreqImg, lowFreqImg, sigmaHigh, sigmaLow):\n",
    "    highPassed = highPass(highFreqImg, sigmaHigh)\n",
    "    lowPassed = lowPass(lowFreqImg, sigmaLow)\n",
    "    return highPassed/2 + lowPassed/4\n",
    "\n",
    "def showImg(img):\n",
    "    plt.imshow(img, cmap='gray')\n",
    "    plt.show()"
   ]
  },
  {
   "cell_type": "code",
   "execution_count": 109,
   "metadata": {},
   "outputs": [
    {
     "name": "stderr",
     "output_type": "stream",
     "text": [
      "c:\\users\\dzoni\\appdata\\local\\programs\\python\\python36\\lib\\site-packages\\ipykernel_launcher.py:1: DeprecationWarning: `imread` is deprecated!\n",
      "`imread` is deprecated in SciPy 1.0.0.\n",
      "Use ``matplotlib.pyplot.imread`` instead.\n",
      "  \"\"\"Entry point for launching an IPython kernel.\n",
      "c:\\users\\dzoni\\appdata\\local\\programs\\python\\python36\\lib\\site-packages\\ipykernel_launcher.py:2: DeprecationWarning: `imread` is deprecated!\n",
      "`imread` is deprecated in SciPy 1.0.0.\n",
      "Use ``matplotlib.pyplot.imread`` instead.\n",
      "  \n"
     ]
    },
    {
     "data": {
      "image/png": "[encoded data removed]",
      "text/plain": [
       "<Figure size 432x288 with 1 Axes>"
      ]
     },
     "metadata": {
      "needs_background": "light"
     },
     "output_type": "display_data"
    }
   ],
   "source": [
    "marilyn = ndimage.imread(\"marilyn.png\", flatten=True)\n",
    "einstein = ndimage.imread(\"albert.png\", flatten=True)\n",
    "\n",
    "hybrid = hybridImage(einstein, marilyn, 20, 55)\n",
    "showImg(hybrid.real)"
   ]
  },
  {
   "cell_type": "code",
   "execution_count": null,
   "metadata": {},
   "outputs": [],
   "source": []
  }
 ],
 "metadata": {
  "kernelspec": {
   "display_name": "Python 3",
   "language": "python",
   "name": "python3"
  },
  "language_info": {
   "codemirror_mode": {
    "name": "ipython",
    "version": 3
   },
   "file_extension": ".py",
   "mimetype": "text/x-python",
   "name": "python",
   "nbconvert_exporter": "python",
   "pygments_lexer": "ipython3",
   "version": "3.6.6"
  }
 },
 "nbformat": 4,
 "nbformat_minor": 2
}
