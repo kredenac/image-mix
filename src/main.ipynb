{
 "cells": [
  {
   "cell_type": "code",
   "execution_count": 2,
   "metadata": {},
   "outputs": [],
   "source": [
    "import numpy as np\n",
    "from numpy.fft import fft2, fft\n"
   ]
  },
  {
   "cell_type": "code",
   "execution_count": 26,
   "metadata": {},
   "outputs": [
    {
     "data": {
      "text/plain": [
       "array([[0.26313009, 0.34539637],\n",
       "       [0.15243536, 0.02044155],\n",
       "       [0.59232609, 0.25631536],\n",
       "       [0.07035365, 0.42501981],\n",
       "       [0.9335804 , 0.99084113]])"
      ]
     },
     "execution_count": 26,
     "metadata": {},
     "output_type": "execute_result"
    }
   ],
   "source": [
    "N = 10\n",
    "x = np.random.random(N).reshape((N//2, 2))\n",
    "x"
   ]
  },
  {
   "cell_type": "markdown",
   "metadata": {},
   "source": [
    "### axis enumeration:\n",
    "axis=0   is up/down, ei. change of rows\n",
    "\n",
    "axis=1   is left/right, ei. change of cols"
   ]
  },
  {
   "cell_type": "code",
   "execution_count": 31,
   "metadata": {},
   "outputs": [
    {
     "name": "stdout",
     "output_type": "stream",
     "text": [
      "[[ 4.0498398 +0.j         -0.02618864+0.j        ]\n",
      " [ 0.16929643+1.45817221j -0.04407993-0.58596146j]\n",
      " [-0.67290019+1.36550992j -0.14849145+0.54563173j]\n",
      " [-0.67290019-1.36550992j -0.14849145-0.54563173j]\n",
      " [ 0.16929643-1.45817221j -0.04407993+0.58596146j]]\n"
     ]
    }
   ],
   "source": [
    "res2 = fft2(x)\n",
    "print(res2)\n"
   ]
  },
  {
   "cell_type": "code",
   "execution_count": 28,
   "metadata": {},
   "outputs": [],
   "source": [
    "def myfunc(x):\n",
    "    return fft(x)"
   ]
  },
  {
   "cell_type": "markdown",
   "metadata": {},
   "source": [
    "fft2 can be calculated by\n",
    "first applying fft on each matrix row\n",
    "then applying fft on that"
   ]
  },
  {
   "cell_type": "code",
   "execution_count": 32,
   "metadata": {},
   "outputs": [
    {
     "name": "stdout",
     "output_type": "stream",
     "text": [
      "[[ 4.0498398 +0.j         -0.02618864+0.j        ]\n",
      " [ 0.16929643+1.45817221j -0.04407993-0.58596146j]\n",
      " [-0.67290019+1.36550992j -0.14849145+0.54563173j]\n",
      " [-0.67290019-1.36550992j -0.14849145-0.54563173j]\n",
      " [ 0.16929643-1.45817221j -0.04407993+0.58596146j]]\n",
      "good results?  True\n"
     ]
    }
   ],
   "source": [
    "# slower onEachRow = np.apply_along_axis(func1d=myfunc, axis=1, arr=x)\n",
    "onEachRow = fft(x, axis=1)\n",
    "#print(onEachRow)\n",
    "\n",
    "# slower onEachCol = np.apply_along_axis(func1d=myfunc, axis=0, arr=onEachRow)\n",
    "# np.apply_along_axis is slower because it uses python loops under the hood\n",
    "onEachCol = fft(onEachRow, axis=0)\n",
    "print(onEachCol)\n",
    "print(\"good results? \",np.allclose(onEachCol, res2))"
   ]
  },
  {
   "cell_type": "code",
   "execution_count": 33,
   "metadata": {},
   "outputs": [],
   "source": [
    "def myfft2(x):\n",
    "    ''' Computes 2d fft using numpys fft '''\n",
    "    onEachRow = fft(x, axis=1)\n",
    "    return fft(onEachRow, axis=0)\n"
   ]
  },
  {
   "cell_type": "code",
   "execution_count": 39,
   "metadata": {},
   "outputs": [
    {
     "name": "stdout",
     "output_type": "stream",
     "text": [
      "42.4 µs ± 616 ns per loop (mean ± std. dev. of 7 runs, 10000 loops each)\n",
      "Surprisingly, myfft2 is faster than fft2\n",
      "30.8 µs ± 342 ns per loop (mean ± std. dev. of 7 runs, 10000 loops each)\n",
      "True\n"
     ]
    }
   ],
   "source": [
    "t = np.arange(1000).reshape(100,10)\n",
    "%timeit f2 = fft2(t)\n",
    "print('Surprisingly, myfft2 is faster than fft2')\n",
    "%timeit f1 = myfft2(t)\n",
    "print(np.allclose(myfft2(t), fft2(t)))"
   ]
  },
  {
   "cell_type": "code",
   "execution_count": 109,
   "metadata": {},
   "outputs": [],
   "source": [
    "def myfft_bad(x):\n",
    "    x = x.astype(float)\n",
    "    N = x.shape[0]\n",
    "    n = np.arange(N).reshape((N,1))\n",
    "    k = n.reshape((1,N))\n",
    "    # k and n make an N x N matrix of \n",
    "    # complex coefficients that get multiplied with x\n",
    "    Mat = np.exp(np.pi * -2j * k * n/ N)\n",
    "    return np.dot(Mat, x)"
   ]
  },
  {
   "cell_type": "code",
   "execution_count": 120,
   "metadata": {},
   "outputs": [
    {
     "data": {
      "text/plain": [
       "True"
      ]
     },
     "execution_count": 120,
     "metadata": {},
     "output_type": "execute_result"
    }
   ],
   "source": [
    "t=np.arange(4000)\n",
    "\n",
    "v1 = myfft_bad(t)\n",
    "v2 = fft(t)\n",
    "#print(\"they're insignificantly differenc\",v1-v2)\n",
    "np.allclose(v1,v2)"
   ]
  },
  {
   "cell_type": "code",
   "execution_count": 122,
   "metadata": {},
   "outputs": [
    {
     "name": "stdout",
     "output_type": "stream",
     "text": [
      "1.09 s ± 4.12 ms per loop (mean ± std. dev. of 7 runs, 1 loop each)\n",
      "62.8 µs ± 222 ns per loop (mean ± std. dev. of 7 runs, 10000 loops each)\n",
      "myfft_bad is a lot slower than npfft\n",
      "myfft_bad has O(N^2) numerical operations while np.fft has O(NlogN)\n"
     ]
    }
   ],
   "source": [
    "# at len(t)=3000 myff_bad takes 614ms, and at 4k it takes 1.1s\n",
    "# while np.fft only takes 63µs \n",
    "%timeit myfft_bad(t)\n",
    "%timeit fft(t)\n",
    "print('myfft_bad is a lot slower than npfft')\n",
    "print('myfft_bad has O(N^2) numerical operations while np.fft has O(NlogN)')"
   ]
  },
  {
   "cell_type": "code",
   "execution_count": 123,
   "metadata": {},
   "outputs": [
    {
     "name": "stdout",
     "output_type": "stream",
     "text": [
      "int32\n",
      "float64\n",
      "(3, 1)\n",
      "(3, 1)\n",
      "(10,)\n",
      "(10, 1)\n"
     ]
    }
   ],
   "source": [
    "#testing types\n",
    "test = np.array([1,2,3])\n",
    "test2 = test.astype(float)\n",
    "print(test.dtype)\n",
    "print(test2.dtype)\n",
    "\n",
    "a = test.reshape(3,1)\n",
    "print(a.shape)\n",
    "a = test.reshape((3,1))\n",
    "print(a.shape)\n",
    "\n",
    "arr = np.arange(10)\n",
    "print(arr.shape)\n",
    "arr = np.arange(10).reshape(10,1)\n",
    "print(arr.shape)\n",
    "\n",
    "n = np.arange(10)\n",
    "k = n.reshape((10, 1))\n",
    "#print(n*k)\n",
    "n = np.arange(10).reshape((10,1))\n",
    "k = n.T\n",
    "#print(n*k)\n",
    "#print(n*n.T)"
   ]
  },
  {
   "cell_type": "code",
   "execution_count": null,
   "metadata": {},
   "outputs": [],
   "source": [
    "print(\"TODO better implementation for fft\")"
   ]
  }
 ],
 "metadata": {
  "kernelspec": {
   "display_name": "Python 3",
   "language": "python",
   "name": "python3"
  },
  "language_info": {
   "codemirror_mode": {
    "name": "ipython",
    "version": 3
   },
   "file_extension": ".py",
   "mimetype": "text/x-python",
   "name": "python",
   "nbconvert_exporter": "python",
   "pygments_lexer": "ipython3",
   "version": "3.6.6"
  }
 },
 "nbformat": 4,
 "nbformat_minor": 2
}
