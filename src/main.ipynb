{
 "cells": [
  {
   "cell_type": "code",
   "execution_count": 1,
   "metadata": {},
   "outputs": [],
   "source": [
    "import numpy as np\n",
    "from numpy.fft import fft2, fft, ifft, ifft2\n",
    "\n",
    "# mistakes: \n",
    "# giving fft input 2d array\n",
    "# arrange instead of arange\n",
    "# shapes\n",
    "# variables easily get reassigned"
   ]
  },
  {
   "cell_type": "code",
   "execution_count": 2,
   "metadata": {},
   "outputs": [
    {
     "data": {
      "text/plain": [
       "array([[0.0102274 , 0.84930162],\n",
       "       [0.88310016, 0.4258932 ],\n",
       "       [0.13953872, 0.68092933],\n",
       "       [0.14630053, 0.57277046],\n",
       "       [0.89184933, 0.29026455]])"
      ]
     },
     "execution_count": 2,
     "metadata": {},
     "output_type": "execute_result"
    }
   ],
   "source": [
    "N = 10\n",
    "x = np.random.random(N).reshape((N//2, 2))\n",
    "x"
   ]
  },
  {
   "cell_type": "markdown",
   "metadata": {},
   "source": [
    "### axis enumeration:\n",
    "axis=0   is up/down, ei. change of rows\n",
    "\n",
    "axis=1   is left/right, ei. change of cols"
   ]
  },
  {
   "cell_type": "code",
   "execution_count": 3,
   "metadata": {},
   "outputs": [
    {
     "name": "stdout",
     "output_type": "stream",
     "text": [
      "[[ 4.89017531+0.j         -0.74814302+0.j        ]\n",
      " [ 0.38381024-0.18026925j  0.27112605+0.20486015j]\n",
      " [-0.68007534+0.02185644j -1.99474008-0.02443291j]\n",
      " [-0.68007534-0.02185644j -1.99474008+0.02443291j]\n",
      " [ 0.38381024+0.18026925j  0.27112605-0.20486015j]]\n"
     ]
    }
   ],
   "source": [
    "res2 = fft2(x)\n",
    "print(res2)\n"
   ]
  },
  {
   "cell_type": "markdown",
   "metadata": {},
   "source": [
    "fft2 can be calculated by\n",
    "first applying fft on each matrix row\n",
    "then applying fft on that"
   ]
  },
  {
   "cell_type": "code",
   "execution_count": 4,
   "metadata": {},
   "outputs": [
    {
     "name": "stdout",
     "output_type": "stream",
     "text": [
      "[[ 4.89017531+0.j         -0.74814302+0.j        ]\n",
      " [ 0.38381024-0.18026925j  0.27112605+0.20486015j]\n",
      " [-0.68007534+0.02185644j -1.99474008-0.02443291j]\n",
      " [-0.68007534-0.02185644j -1.99474008+0.02443291j]\n",
      " [ 0.38381024+0.18026925j  0.27112605-0.20486015j]]\n",
      "good results?  True\n"
     ]
    }
   ],
   "source": [
    "# slower onEachRow = np.apply_along_axis(func1d=myfunc, axis=1, arr=x)\n",
    "onEachRow = fft(x, axis=1)\n",
    "#print(onEachRow)\n",
    "\n",
    "# slower onEachCol = np.apply_along_axis(func1d=myfunc, axis=0, arr=onEachRow)\n",
    "# np.apply_along_axis is slower because it uses python loops under the hood\n",
    "onEachCol = fft(onEachRow, axis=0)\n",
    "print(onEachCol)\n",
    "print(\"good results? \", np.allclose(onEachCol, res2))"
   ]
  },
  {
   "cell_type": "code",
   "execution_count": 5,
   "metadata": {},
   "outputs": [],
   "source": [
    "def myfft2(x):\n",
    "    ''' Computes 2d fft using numpys fft '''\n",
    "    onEachRow = fft(x, axis=1)\n",
    "    return fft(onEachRow, axis=0)\n"
   ]
  },
  {
   "cell_type": "code",
   "execution_count": 6,
   "metadata": {},
   "outputs": [
    {
     "name": "stdout",
     "output_type": "stream",
     "text": [
      "myfft2 is faster than fft2, but only at sub 10k lens\n",
      "True\n"
     ]
    }
   ],
   "source": [
    "t = np.arange(1000).reshape(10,100)\n",
    "#%timeit f2 = fft2(t)\n",
    "print('myfft2 is faster than fft2, but only at sub 10k lens')\n",
    "#%timeit f1 = myfft2(t)\n",
    "print(np.allclose(myfft2(t), fft2(t)))"
   ]
  },
  {
   "cell_type": "code",
   "execution_count": 7,
   "metadata": {},
   "outputs": [],
   "source": [
    "def myfft_bad(x):\n",
    "    #x = x.astype(float)\n",
    "    N = x.shape[0]\n",
    "    n = np.arange(N).reshape((N,1))\n",
    "    k = n.reshape((1,N))\n",
    "    # k and n make an N x N matrix of \n",
    "    # complex coefficients that get multiplied with x\n",
    "    Mat = np.exp(np.pi * k * n/ N * -2j)\n",
    "    return np.dot(Mat, x)"
   ]
  },
  {
   "cell_type": "code",
   "execution_count": 8,
   "metadata": {},
   "outputs": [
    {
     "data": {
      "text/plain": [
       "True"
      ]
     },
     "execution_count": 8,
     "metadata": {},
     "output_type": "execute_result"
    }
   ],
   "source": [
    "t=np.arange(4000)\n",
    "\n",
    "v1 = myfft_bad(t)\n",
    "v2 = fft(t)\n",
    "#print(\"they're insignificantly differenc\",v1-v2)\n",
    "np.allclose(v1,v2)"
   ]
  },
  {
   "cell_type": "code",
   "execution_count": 9,
   "metadata": {},
   "outputs": [
    {
     "name": "stdout",
     "output_type": "stream",
     "text": [
      "myfft_bad is a lot slower than npfft\n",
      "myfft_bad has O(N^2) numerical operations while np.fft has O(NlogN)\n"
     ]
    }
   ],
   "source": [
    "# at len(t)=3000 myff_bad takes 614ms, and at 4k it takes 1.1s\n",
    "# while np.fft only takes 63µs \n",
    "#%timeit myfft_bad(t)\n",
    "#%timeit fft(t)\n",
    "print('myfft_bad is a lot slower than npfft')\n",
    "print('myfft_bad has O(N^2) numerical operations while np.fft has O(NlogN)')"
   ]
  },
  {
   "cell_type": "code",
   "execution_count": 10,
   "metadata": {},
   "outputs": [
    {
     "name": "stdout",
     "output_type": "stream",
     "text": [
      "int32\n",
      "float64\n",
      "(3, 1)\n",
      "(3, 1)\n",
      "(10,)\n",
      "(10, 1)\n"
     ]
    }
   ],
   "source": [
    "#testing types\n",
    "test = np.array([1,2,3])\n",
    "test2 = test.astype(float)\n",
    "print(test.dtype)\n",
    "print(test2.dtype)\n",
    "\n",
    "a = test.reshape(3,1)\n",
    "print(a.shape)\n",
    "a = test.reshape((3,1))\n",
    "print(a.shape)\n",
    "\n",
    "arr = np.arange(10)\n",
    "print(arr.shape)\n",
    "arr = np.arange(10).reshape(10,1)\n",
    "print(arr.shape)\n",
    "\n",
    "n = np.arange(10)\n",
    "k = n.reshape((10, 1))\n",
    "#print(n*k)\n",
    "n = np.arange(10).reshape((10,1))\n",
    "k = n.T\n",
    "#print(n*k)\n",
    "#print(n*n.T)"
   ]
  },
  {
   "cell_type": "code",
   "execution_count": 11,
   "metadata": {},
   "outputs": [],
   "source": [
    "def myfft_better(x):\n",
    "    ''' Cooley Tukey FFT, only works for lenghts that are power of 2 '''\n",
    "    #x = x.astype(float)\n",
    "    N = x.shape[0]\n",
    "    \n",
    "    if N % 2 != 0:\n",
    "        raise Exception(\"Error, len(x) has to be power of 2\")\n",
    "    if N <= 8: # at some point it's better to fall back to the basic algorithm\n",
    "        return myfft_bad(x)\n",
    "    even = myfft_better(x[::2])\n",
    "    odd = myfft_better(x[1::2])\n",
    "    multiplier = np.exp( np.pi * np.arange(N) / N * -2j)\n",
    "    return np.concatenate([even + multiplier[:N//2] * odd, \n",
    "        even + multiplier[N//2:] * odd])\n"
   ]
  },
  {
   "cell_type": "code",
   "execution_count": 12,
   "metadata": {},
   "outputs": [
    {
     "data": {
      "text/plain": [
       "True"
      ]
     },
     "execution_count": 12,
     "metadata": {},
     "output_type": "execute_result"
    }
   ],
   "source": [
    "t=np.arange(4096)\n",
    "\n",
    "v1 = myfft_better(t)\n",
    "v2 = fft(t)\n",
    "#print(\"they're insignificantly differenc\",v1-v2)\n",
    "np.allclose(v1,v2)"
   ]
  },
  {
   "cell_type": "code",
   "execution_count": 13,
   "metadata": {},
   "outputs": [
    {
     "name": "stdout",
     "output_type": "stream",
     "text": [
      "myfft is still slower, but orders of magnitute faster than the other implementation\n",
      "len(t)=4096\n",
      "N=64 -> 17ms, N=32 -> 10ms, N=16 -> 9.5ms, N=8 -> 12.2ms\n"
     ]
    }
   ],
   "source": [
    "#%timeit myfft_bad(t)\n",
    "#%timeit myfft_better(t)\n",
    "#%timeit fft(t)\n",
    "print(\"myfft is still slower, but orders of magnitute faster than the other implementation\")\n",
    "print(\"len(t)=4096\")\n",
    "print(\"N=64 -> 17ms, N=32 -> 10ms, N=16 -> 9.5ms, N=8 -> 12.2ms\")"
   ]
  },
  {
   "cell_type": "code",
   "execution_count": 14,
   "metadata": {},
   "outputs": [],
   "source": [
    "def my2dfft(x):\n",
    "    onEachRow = np.apply_along_axis(myfft_better, 1, x)\n",
    "    return np.apply_along_axis(myfft_better, 0, onEachRow)"
   ]
  },
  {
   "cell_type": "code",
   "execution_count": 15,
   "metadata": {},
   "outputs": [
    {
     "data": {
      "text/plain": [
       "True"
      ]
     },
     "execution_count": 15,
     "metadata": {},
     "output_type": "execute_result"
    }
   ],
   "source": [
    "t=np.random.rand(4096).reshape(512,8)\n",
    "\n",
    "v1 = fft2(t)\n",
    "v2 = my2dfft(t)\n",
    "#print(\"they're insignificantly differenc\",v1-v2)\n",
    "np.allclose(v1,v2)"
   ]
  },
  {
   "cell_type": "code",
   "execution_count": 16,
   "metadata": {},
   "outputs": [
    {
     "name": "stdout",
     "output_type": "stream",
     "text": [
      "a lot slower than the fortrans fft2 implementation, but useable\n",
      "N=512x512 -> my2dfft 1s\n"
     ]
    }
   ],
   "source": [
    "s = 256\n",
    "t=np.arange(s*s).reshape(s,s)\n",
    "#%timeit myfft2(t)\n",
    "#%timeit my2dfft(t)\n",
    "#%timeit fft2(t)\n",
    "\n",
    "print('a lot slower than the fortrans fft2 implementation, but useable')\n",
    "print('N=512x512 -> my2dfft 1s')"
   ]
  },
  {
   "cell_type": "code",
   "execution_count": 17,
   "metadata": {},
   "outputs": [
    {
     "name": "stdout",
     "output_type": "stream",
     "text": [
      "Problem with the last implementation of fft is that on each node in the\n",
      "recursive tree the same vector is constructed and multiplied with given input,\n",
      "it would be a lot faster if it could be vectorized. And it can be!\n"
     ]
    }
   ],
   "source": [
    "print('''Problem with the last implementation of fft is that on each node in the\n",
    "recursive tree the same vector is constructed and multiplied with given input,\n",
    "it would be a lot faster if it could be vectorized. And it can be!''')\n",
    "def myfft_best(x):\n",
    "    ''' vectorized Cooley Tukey, not recursive'''\n",
    "    N = x.shape[0]\n",
    "    #print(N)\n",
    "    # hacky way of checking if a number is power of two\n",
    "    # faster than log checking and not error prone\n",
    "    if not ( ((N & (N - 1)) == 0) and N > 0 ):\n",
    "        raise Exception(\"Error, len(x) has to be power of 2\")\n",
    "    \n",
    "    # chungs of input onto which to apply the same multiplication\n",
    "    sliceSize = min(N, 64)\n",
    "    \n",
    "    #One shape dimension can be -1. In this case, \n",
    "    #the value is inferred from the length of the array and remaining dimensions.\n",
    "    xslices = x.reshape(sliceSize, -1)\n",
    "    \n",
    "    # applying calculation of myfft_bad on all slices\n",
    "    n = np.arange(sliceSize)\n",
    "    # in numpy None at index creates an axis with length 1.\n",
    "    k = n[:, np.newaxis]\n",
    "    factors = np.exp(np.pi * k * n/sliceSize * -2j)\n",
    "    X = np.dot(factors, xslices)\n",
    "    #print(X.shape[0])\n",
    "\n",
    "    while N > X.shape[0]:\n",
    "        #analogous to even/odd in myfft_better\n",
    "        firstHalf = X[:, :X.shape[1]//2]\n",
    "        secondHalf = X[:,  X.shape[1]//2:]\n",
    "        Nvec = np.arange(X.shape[0])\n",
    "        factor = np.exp(np.pi * Nvec / X.shape[0] * -1j)[:, np.newaxis]\n",
    "        X = np.vstack([\n",
    "            firstHalf + factor * secondHalf,\n",
    "            firstHalf - factor * secondHalf\n",
    "        ])\n",
    "        #print('N',N)\n",
    "        #print('X.shape[0]',X.shape[0])\n",
    "    \n",
    "    # reshape it to be same as input vector\n",
    "    return X.reshape(N)"
   ]
  },
  {
   "cell_type": "code",
   "execution_count": 18,
   "metadata": {},
   "outputs": [],
   "source": [
    "t=np.random.rand(128)\n",
    "np.allclose(v1,v2)\n",
    "v1 = fft(t)\n",
    "v2 = myfft_best(t)\n",
    "#print(v1)\n",
    "#print(v2)\n"
   ]
  },
  {
   "cell_type": "code",
   "execution_count": 19,
   "metadata": {},
   "outputs": [],
   "source": [
    "def my2dfft_better(x):\n",
    "    onEachRow = np.apply_along_axis(myfft_best, 1, x)\n",
    "    return np.apply_along_axis(myfft_best, 0, onEachRow)"
   ]
  },
  {
   "cell_type": "code",
   "execution_count": 20,
   "metadata": {},
   "outputs": [
    {
     "name": "stdout",
     "output_type": "stream",
     "text": [
      "True\n",
      "(128, 128) (128, 128)\n",
      "v1 [ -9214.16006183    +0.j          50018.39010559-15658.51760152j\n",
      " -22850.10188808+18972.43170412j -17253.92663151+11326.52049325j\n",
      " -19601.12979617+12419.99099937j -33280.57854848-15464.33322425j\n",
      "  -7519.75074747+10196.36052464j  33521.16343001-26362.36415875j\n",
      "  -1105.21971081-26077.75546314j  12908.85189833-30723.36111234j]\n",
      "v2 [ -9214.16006183    +0.j          50018.39010559-15658.51760152j\n",
      " -22850.10188808+18972.43170412j -17253.92663151+11326.52049325j\n",
      " -19601.12979617+12419.99099937j -33280.57854848-15464.33322425j\n",
      "  -7519.75074747+10196.36052464j  33521.16343001-26362.36415875j\n",
      "  -1105.21971081-26077.75546314j  12908.85189833-30723.36111234j]\n"
     ]
    }
   ],
   "source": [
    "s = 128\n",
    "t=(np.random.randn(s*s) *255).reshape(s,s)\n",
    "\n",
    "v1 = fft2(t)\n",
    "v2 = my2dfft_better(t)\n",
    "print(np.allclose(v1,v2))\n",
    "print(v1.shape, v2.shape)\n",
    "print('v1',v1[0:10,0])\n",
    "print('v2',v2[0:10,0])\n"
   ]
  },
  {
   "cell_type": "code",
   "execution_count": 21,
   "metadata": {},
   "outputs": [
    {
     "name": "stdout",
     "output_type": "stream",
     "text": [
      "my2dfft_better is much faster than earlier implementation,\n",
      "numpys fft2 is still better of course.\n"
     ]
    }
   ],
   "source": [
    "print('''my2dfft_better is much faster than earlier implementation,\n",
    "numpys fft2 is still better of course.''')\n",
    "s = 512\n",
    "t=np.arange(s*s).reshape(s,s)\n",
    "#%timeit my2dfft_better(t)\n",
    "#%timeit my2dfft(t)\n",
    "#%timeit fft2(t)\n",
    "\n"
   ]
  },
  {
   "cell_type": "code",
   "execution_count": 22,
   "metadata": {},
   "outputs": [],
   "source": [
    "# https://www.dsprelated.com/showarticle/800.php\n",
    "def myifft(x):\n",
    "    #method#3, for some reason it doesn't work\n",
    "#     real = x.real\n",
    "#     x.real = x.imag\n",
    "#     x.imag = real\n",
    "#     y = myfft_better(x)\n",
    "#     real = y.real\n",
    "#     y.real = y.imag\n",
    "#     y.imag = real\n",
    "#     return y / y.shape[0]\n",
    "    # method#4, works well\n",
    "    x.imag *= -1\n",
    "    y = myfft_better(x)\n",
    "    y.imag *= -1\n",
    "    return y / y.shape[0]"
   ]
  },
  {
   "cell_type": "code",
   "execution_count": 23,
   "metadata": {},
   "outputs": [
    {
     "name": "stdout",
     "output_type": "stream",
     "text": [
      "True\n",
      "[ 0.+0.00000000e+00j 15.+1.13242749e-14j 14.+9.42545333e-15j\n",
      " 13.+1.03250741e-14j 12.+2.22044605e-16j 11.+3.33066907e-15j\n",
      " 10.+3.00904454e-15j  9.+3.88578059e-15j  8.+0.00000000e+00j\n",
      "  7.-4.66293670e-15j  6.-3.00904454e-15j  5.-4.32986980e-15j\n",
      "  4.-2.22044605e-16j  3.-9.99200722e-15j  2.-9.42545333e-15j\n",
      "  1.-9.88098492e-15j]\n",
      "[ 0.+6.66133815e-16j 15.+7.94738930e-15j 14.+3.43999064e-15j\n",
      " 13.+4.36876431e-15j 12.-2.26621556e-15j 11.-1.02576502e-16j\n",
      " 10.+1.86519211e-15j  9.-1.44558843e-15j  8.-7.11903325e-16j\n",
      "  7.-3.37688556e-15j  6.-1.00090146e-15j  5.+8.16050634e-16j\n",
      "  4.+1.82212635e-15j  3.-6.09778084e-15j  2.-7.01659209e-15j\n",
      "  1.+1.09889094e-14j]\n"
     ]
    }
   ],
   "source": [
    "x = np.arange(16)\n",
    "f = fft(x)\n",
    "print(np.allclose(ifft(f), myifft(f)))\n",
    "print(ifft(f))\n",
    "print(myifft(f))"
   ]
  },
  {
   "cell_type": "code",
   "execution_count": 24,
   "metadata": {},
   "outputs": [],
   "source": [
    "# inverse calculations from fft2\n",
    "def myifft2(x):\n",
    "    onEachRow = np.apply_along_axis(myifft, 1, x)\n",
    "    onEachCol =  np.apply_along_axis(myifft, 0, onEachRow)\n",
    "    return onEachCol #.real"
   ]
  },
  {
   "cell_type": "code",
   "execution_count": 25,
   "metadata": {},
   "outputs": [
    {
     "name": "stdout",
     "output_type": "stream",
     "text": [
      "True\n",
      "[[ 0.20161369+0.j -1.29052301+0.j  0.22158165+0.j  0.00776907+0.j]\n",
      " [-1.97148154+0.j  0.76196548+0.j  0.52477005+0.j  1.51866598+0.j]\n",
      " [-1.08442012+0.j  1.06062942+0.j -0.03343126+0.j -0.11886079+0.j]\n",
      " [-1.44414322+0.j  3.46997987+0.j -0.27500036+0.j  0.80848366+0.j]]\n",
      "[[ 0.20161369-0.00000000e+00j -1.29052301+1.09245539e-16j\n",
      "   0.22158165-1.10260300e-16j  0.00776907-1.38176141e-16j]\n",
      " [-1.97148154+1.09835356e-16j  0.76196548-6.69519697e-17j\n",
      "   0.52477005-1.16336195e-16j  1.51866598-5.56327629e-16j]\n",
      " [-1.08442012+2.40332650e-18j  1.06062942-1.27523358e-16j\n",
      "  -0.03343126+3.57651696e-17j -0.11886079+2.48675373e-16j]\n",
      " [-1.44414322+1.35765111e-16j  3.46997987-1.22547764e-15j\n",
      "  -0.27500036+3.53333724e-16j  0.80848366-1.98615445e-16j]]\n"
     ]
    }
   ],
   "source": [
    "x = np.random.randn(16).reshape(4,4)\n",
    "f = fft2(x)\n",
    "print(np.allclose(ifft2(f), myifft2(f)))\n",
    "print(ifft2(f))\n",
    "print(myifft2(f))"
   ]
  },
  {
   "cell_type": "markdown",
   "metadata": {},
   "source": [
    "The formula of a Gaussian function in one dimension is\n",
    "$$G(x) = \\frac{1}{\\sqrt{2\\pi \\sigma^2}} e^{-\\frac{x^2}{2 \\sigma^2}}$$\n",
    "In two dimensions, it is the product of two such Gaussian functions, one in each dimension:\n",
    "$$G(x,y) = \\frac{1}{{2\\pi \\sigma^2}} e^{- \\frac{x^2 + y^2}{2 \\sigma^2}}$$"
   ]
  },
  {
   "cell_type": "code",
   "execution_count": 26,
   "metadata": {},
   "outputs": [],
   "source": [
    "# program implementation\n",
    "import numpy as np\n",
    "from numpy.fft import fft2, ifft2, fftshift, ifftshift\n",
    "from scipy import ndimage\n",
    "import math\n",
    "import matplotlib.pyplot as plt\n",
    "\n",
    "def getGaussMatrix(numRows, numCols, sigma, saveLowFreq):\n",
    "    centerI = numRows//2 + 1 if numRows % 2 == 1 else numRows//2\n",
    "    centerJ = numCols//2 + 1 if numCols % 2 == 1 else numCols//2\n",
    "\n",
    "    def gaussian(i,j):\n",
    "        coefficient = math.exp(-1.0 * ((i - centerI)**2 + (j - centerJ)**2) / (2 * sigma**2))\n",
    "        return coefficient if saveLowFreq else 1 - coefficient\n",
    "    \n",
    "    G = np.array([[gaussian(i,j) for j in range(numCols)] for i in range(numRows)])\n",
    "    #showImg(G)\n",
    "    return G\n",
    " \n",
    "def applyFilterOnDFT(imageMatrix, filterMatrix, useNpFunc):\n",
    "    '''converts to dft, applies filterMatrix, then inverts dft'''\n",
    "    #shiftedDFT = v1 = fftshift(fft2(imageMatrix))\n",
    "    #v2 = fftshift(my2dfft_better(imageMatrix))\n",
    "    #print('fft.allclose:',np.allclose(v1,v2))\n",
    "    #print(\"shapes:\", v1.shape, v2.shape)\n",
    "    shiftedDFT = fftshift(fft2(imageMatrix)) if useNpFunc else \\\n",
    "       fftshift(my2dfft_better(imageMatrix))\n",
    "\n",
    "    filteredDFT = shiftedDFT * filterMatrix\n",
    "#     print(\"real:\")\n",
    "#     showImg(filteredDFT.real)\n",
    "#     print(\"complex:\")\n",
    "#     showImg(filteredDFT.imag)\n",
    "\n",
    "    #plt.imshow(filteredDFT.real, cmap='gray')\n",
    "    #plt.show()\n",
    "    \n",
    "#     res = v1 =  ifft2(ifftshift(filteredDFT))\n",
    "#     v2 = myifft2(ifftshift(filteredDFT))\n",
    "#     print('ifft.allclose:',np.allclose(v1,v2))\n",
    "\n",
    "    res = ifft2(ifftshift(filteredDFT)) if useNpFunc else \\\n",
    "       myifft2(ifftshift(filteredDFT))\n",
    "\n",
    "    return res\n",
    "\n",
    "def removeFreq(image, sigma, useNumpyDFT, highFreq=True):\n",
    "    ''' if highFreq=True - filters out high freqs and passes low freqs \n",
    "    if highFreq=False - filters out low freqs and passes highFreqs'''\n",
    "    (h,w) = image.shape\n",
    "    G = getGaussMatrix(h, w, sigma, highFreq)\n",
    "    return applyFilterOnDFT(image, G, useNumpyDFT)\n",
    "\n",
    "def hybridImage(highFreqImg, lowFreqImg, sigmaHigh, sigmaLow, highOverLow=1.0, useNumpyDFT=True):\n",
    "    '''combines high freq of one image with low freq of other image'''\n",
    "    highFreq = removeFreq(highFreqImg, sigmaHigh, useNumpyDFT, highFreq=False)\n",
    "    lowFreq = removeFreq(lowFreqImg, sigmaLow, useNumpyDFT, highFreq=True)\n",
    "    return highFreq * highOverLow + lowFreq\n",
    "\n",
    "def showImg(img):\n",
    "    '''shows img as grayscale'''\n",
    "    plt.imshow(img, cmap='gray')\n",
    "    plt.show()"
   ]
  },
  {
   "cell_type": "code",
   "execution_count": 27,
   "metadata": {},
   "outputs": [],
   "source": [
    "import cv2\n",
    "\n",
    "def rescaleImg(img):\n",
    "    #print('input', img.shape)\n",
    "    # upscale image size to be power of two\n",
    "    log2Shape = np.log2(img.shape)\n",
    "    h, w  = (2 ** np.ceil(log2Shape)).astype(int)\n",
    "    #print('output', h,w)\n",
    "    resizedImg = cv2.resize(img, (h,w))\n",
    "    return resizedImg\n",
    "\n",
    "def readImg(fname):\n",
    "    '''reads image and converts it to grayscale'''\n",
    "    x = plt.imread(fname)\n",
    "    print(x.shape)\n",
    "\n",
    "#     plt.imshow(x)\n",
    "#     plt.show()\n",
    "\n",
    "#     print(\"1\",x[:,:,1])\n",
    "#     print(\"2\",x[:,:,2])\n",
    "#     print( (x[:,:,2] == x[:,:,1]).all() )\n",
    "\n",
    "    # When translating a color image to black and white (mode ‘L’, ‘I’ or ‘F’), \n",
    "    # the scipy.ndimage  uses the ITU-R 601-2 luma transform:\n",
    "    # L = R * 299/1000 + G * 587/1000 + B * 114/1000\n",
    "    # but it's depricated\n",
    "    #print(\"converted to grayscale:\")\n",
    "    y = x[:,:,0] * 0.299 + x[:,:,1] * 0.587 + x[:,:,2] * 0.144\n",
    "    return rescaleImg(y)"
   ]
  },
  {
   "cell_type": "code",
   "execution_count": 28,
   "metadata": {
    "scrolled": false
   },
   "outputs": [
    {
     "name": "stdout",
     "output_type": "stream",
     "text": [
      "(400, 400, 4)\n",
      "(400, 400, 3)\n"
     ]
    },
    {
     "data": {
      "image/png": "[encoded data removed]",
      "text/plain": [
       "<Figure size 432x288 with 1 Axes>"
      ]
     },
     "metadata": {
      "needs_background": "light"
     },
     "output_type": "display_data"
    }
   ],
   "source": [
    "marilyn = readImg(\"marilyn.png\") #ndimage.imread\n",
    "einstein = readImg(\"albert.png\" )\n",
    "\n",
    "#showImg(einstein)\n",
    "# showImg(marilyn)\n",
    "# showImg(einstein)\n",
    "\n",
    "hybrid = hybridImage(einstein, marilyn, 11, 11, 1, True)\n",
    "showImg(hybrid.real)\n"
   ]
  },
  {
   "cell_type": "code",
   "execution_count": 29,
   "metadata": {},
   "outputs": [
    {
     "name": "stdout",
     "output_type": "stream",
     "text": [
      "numpy:\n",
      "868 ms ± 35.4 ms per loop (mean ± std. dev. of 7 runs, 1 loop each)\n",
      "my fft:\n",
      "7 s ± 1.51 s per loop (mean ± std. dev. of 7 runs, 1 loop each)\n"
     ]
    }
   ],
   "source": [
    "print('numpy:')\n",
    "%timeit hybridImage(einstein, marilyn, 11, 33, 2, True)\n",
    "print('my fft:')\n",
    "%timeit hybridImage(einstein, marilyn, 11, 33, 2, False)"
   ]
  },
  {
   "cell_type": "code",
   "execution_count": 30,
   "metadata": {},
   "outputs": [
    {
     "data": {
      "application/vnd.jupyter.widget-view+json": {
       "model_id": "62e3d3f9e40b42d1a6fbeb5ea683f69a",
       "version_major": 2,
       "version_minor": 0
      },
      "text/plain": [
       "interactive(children=(IntSlider(value=230, description='x', max=500, step=10), Output()), _dom_classes=('widge…"
      ]
     },
     "metadata": {},
     "output_type": "display_data"
    }
   ],
   "source": [
    "from ipywidgets import interact, interactive, fixed, interact_manual\n",
    "import ipywidgets as widgets\n",
    "\n",
    "def f(x):\n",
    "    t =  x/100\n",
    "    print(t)\n",
    "    hybrid = hybridImage(einstein, marilyn, 20, 20, t)\n",
    "    showImg(hybrid.real)\n",
    "\n",
    "interact(f, x=widgets.IntSlider(min=0,max=500,step=10,value=230));\n"
   ]
  }
 ],
 "metadata": {
  "kernelspec": {
   "display_name": "Python 3",
   "language": "python",
   "name": "python3"
  },
  "language_info": {
   "codemirror_mode": {
    "name": "ipython",
    "version": 3
   },
   "file_extension": ".py",
   "mimetype": "text/x-python",
   "name": "python",
   "nbconvert_exporter": "python",
   "pygments_lexer": "ipython3",
   "version": "3.6.6"
  }
 },
 "nbformat": 4,
 "nbformat_minor": 2
}
